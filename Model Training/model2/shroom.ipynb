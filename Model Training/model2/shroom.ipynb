{
  "nbformat": 4,
  "nbformat_minor": 0,
  "metadata": {
    "colab": {
      "name": "shroom.ipynb",
      "provenance": []
    },
    "kernelspec": {
      "name": "python3",
      "display_name": "Python 3"
    },
    "accelerator": "GPU"
  },
  "cells": [
    {
      "cell_type": "code",
      "metadata": {
        "id": "61fSezZWOv5P",
        "colab_type": "code",
        "colab": {}
      },
      "source": [
        "# mount google drive and download dataset from google drive"
      ],
      "execution_count": 0,
      "outputs": []
    },
    {
      "cell_type": "code",
      "metadata": {
        "id": "9v-JSg7EOHff",
        "colab_type": "code",
        "outputId": "8f9217a6-d13e-457b-f7ba-0e3eaa6e7cda",
        "colab": {
          "base_uri": "https://localhost:8080/",
          "height": 34
        }
      },
      "source": [
        "import tensorflow as tf\n",
        "tf.test.gpu_device_name()"
      ],
      "execution_count": 0,
      "outputs": [
        {
          "output_type": "execute_result",
          "data": {
            "text/plain": [
              "'/device:GPU:0'"
            ]
          },
          "metadata": {
            "tags": []
          },
          "execution_count": 2
        }
      ]
    },
    {
      "cell_type": "code",
      "metadata": {
        "id": "9hQxtvXMOKE2",
        "colab_type": "code",
        "outputId": "6098bea7-a768-4301-ea80-bc05c747b9ec",
        "colab": {
          "base_uri": "https://localhost:8080/",
          "height": 238
        }
      },
      "source": [
        "# memory footprint support libraries/code\n",
        "!ln -sf /opt/bin/nvidia-smi /usr/bin/nvidia-smi\n",
        "!pip install gputil\n",
        "!pip install psutil\n",
        "!pip install humanize\n",
        "import psutil\n",
        "import humanize\n",
        "import os\n",
        "import GPUtil as GPU\n",
        "GPUs = GPU.getGPUs()\n",
        "# XXX: only one GPU on Colab and isn’t guaranteed\n",
        "gpu = GPUs[0]\n",
        "def printm():\n",
        " process = psutil.Process(os.getpid())\n",
        " print(\"Gen RAM Free: \" + humanize.naturalsize( psutil.virtual_memory().available ), \" | Proc size: \" + humanize.naturalsize( process.memory_info().rss))\n",
        " print(\"GPU RAM Free: {0:.0f}MB | Used: {1:.0f}MB | Util {2:3.0f}% | Total {3:.0f}MB\".format(gpu.memoryFree, gpu.memoryUsed, gpu.memoryUtil*100, gpu.memoryTotal))\n",
        "printm() "
      ],
      "execution_count": 0,
      "outputs": [
        {
          "output_type": "stream",
          "text": [
            "Collecting gputil\n",
            "  Downloading https://files.pythonhosted.org/packages/ed/0e/5c61eedde9f6c87713e89d794f01e378cfd9565847d4576fa627d758c554/GPUtil-1.4.0.tar.gz\n",
            "Building wheels for collected packages: gputil\n",
            "  Building wheel for gputil (setup.py) ... \u001b[?25l\u001b[?25hdone\n",
            "  Created wheel for gputil: filename=GPUtil-1.4.0-cp36-none-any.whl size=7413 sha256=a99319ac802545a236944967e362bca8f82ed87450fb4be878f45161dd89293b\n",
            "  Stored in directory: /root/.cache/pip/wheels/3d/77/07/80562de4bb0786e5ea186911a2c831fdd0018bda69beab71fd\n",
            "Successfully built gputil\n",
            "Installing collected packages: gputil\n",
            "Successfully installed gputil-1.4.0\n",
            "Requirement already satisfied: psutil in /usr/local/lib/python3.6/dist-packages (5.4.8)\n",
            "Requirement already satisfied: humanize in /usr/local/lib/python3.6/dist-packages (0.5.1)\n",
            "Gen RAM Free: 12.1 GB  | Proc size: 1.1 GB\n",
            "GPU RAM Free: 7408MB | Used: 203MB | Util   3% | Total 7611MB\n"
          ],
          "name": "stdout"
        }
      ]
    },
    {
      "cell_type": "code",
      "metadata": {
        "id": "Oq-VcY9YOL1n",
        "colab_type": "code",
        "outputId": "552c9767-4100-4923-872b-410cf19e0630",
        "colab": {
          "base_uri": "https://localhost:8080/",
          "height": 122
        }
      },
      "source": [
        "from google.colab import drive\n",
        "drive.mount('/content/drive')"
      ],
      "execution_count": 0,
      "outputs": [
        {
          "output_type": "stream",
          "text": [
            "Go to this URL in a browser: https://accounts.google.com/o/oauth2/auth?client_id=947318989803-6bn6qk8qdgf4n4g3pfee6491hc0brc4i.apps.googleusercontent.com&redirect_uri=urn%3aietf%3awg%3aoauth%3a2.0%3aoob&response_type=code&scope=email%20https%3a%2f%2fwww.googleapis.com%2fauth%2fdocs.test%20https%3a%2f%2fwww.googleapis.com%2fauth%2fdrive%20https%3a%2f%2fwww.googleapis.com%2fauth%2fdrive.photos.readonly%20https%3a%2f%2fwww.googleapis.com%2fauth%2fpeopleapi.readonly\n",
            "\n",
            "Enter your authorization code:\n",
            "··········\n",
            "Mounted at /content/drive\n"
          ],
          "name": "stdout"
        }
      ]
    },
    {
      "cell_type": "code",
      "metadata": {
        "id": "0ZVthYLLOQOK",
        "colab_type": "code",
        "colab": {}
      },
      "source": [
        "import os\n",
        "from pydrive.auth import GoogleAuth\n",
        "from pydrive.drive import GoogleDrive\n",
        "from google.colab import auth\n",
        "from oauth2client.client import GoogleCredentials\n",
        "\n",
        "auth.authenticate_user()\n",
        "gauth = GoogleAuth()\n",
        "gauth.credentials = GoogleCredentials.get_application_default()\n",
        "drive = GoogleDrive(gauth)"
      ],
      "execution_count": 0,
      "outputs": []
    },
    {
      "cell_type": "code",
      "metadata": {
        "id": "BW0JmxcoOQmR",
        "colab_type": "code",
        "outputId": "a49c6e0b-08b7-4f73-d37b-76224ade2e24",
        "colab": {
          "base_uri": "https://localhost:8080/",
          "height": 34
        }
      },
      "source": [
        "# 1Z8pft8C4Bu87u7Z4Vf4hNzE5TKthAlIl -- id taken from the shareable link of the zipped folder \n",
        "downloaded = drive.CreateFile({'id':\"13BzrZ7w9Yt9PE7NnPhtJAFH2zDCirkbb\"})   # 14 mushrooms\n",
        "print('title: %s, mimeType: %s' % (downloaded['title'], downloaded['mimeType']))\n",
        "downloaded.GetContentFile('image1.tgz')"
      ],
      "execution_count": 0,
      "outputs": [
        {
          "output_type": "stream",
          "text": [
            "title: 400.zip, mimeType: application/x-zip-compressed\n"
          ],
          "name": "stdout"
        }
      ]
    },
    {
      "cell_type": "code",
      "metadata": {
        "id": "-aUx0jLQOSBw",
        "colab_type": "code",
        "outputId": "96d9dd7a-5064-4215-9857-2c7ece317716",
        "colab": {
          "base_uri": "https://localhost:8080/",
          "height": 34
        }
      },
      "source": [
        "from zipfile import ZipFile\n",
        "file_name = \"image1.tgz\"\n",
        "\n",
        "with ZipFile(file_name, 'r') as zip:\n",
        "  zip.extractall(\"~/Content/train_data\")\n",
        "  print('Done')"
      ],
      "execution_count": 0,
      "outputs": [
        {
          "output_type": "stream",
          "text": [
            "Done\n"
          ],
          "name": "stdout"
        }
      ]
    },
    {
      "cell_type": "code",
      "metadata": {
        "id": "K1XNRYOmOTXr",
        "colab_type": "code",
        "colab": {}
      },
      "source": [
        ""
      ],
      "execution_count": 0,
      "outputs": []
    },
    {
      "cell_type": "code",
      "metadata": {
        "id": "FB-uNUbdOeN6",
        "colab_type": "code",
        "colab": {}
      },
      "source": [
        "# making the model"
      ],
      "execution_count": 0,
      "outputs": []
    },
    {
      "cell_type": "code",
      "metadata": {
        "id": "iU6tsoMqOVG-",
        "colab_type": "code",
        "colab": {}
      },
      "source": [
        "import numpy as np\n",
        "import matplotlib.pyplot as plt\n",
        "import os\n",
        "import cv2 # to install this: pip install opencv-python\n",
        "\n",
        "import tensorflow as tf\n",
        "from tensorflow.keras.models import Sequential\n",
        "from tensorflow.keras.layers import Dense, Dropout, Activation, Flatten, Conv2D, MaxPooling2D\n",
        "from tensorflow.keras import losses\n",
        "from tensorflow.keras.utils import to_categorical\n",
        "\n",
        "from sklearn.model_selection import train_test_split"
      ],
      "execution_count": 0,
      "outputs": []
    },
    {
      "cell_type": "code",
      "metadata": {
        "id": "Mi468qSrOVLS",
        "colab_type": "code",
        "outputId": "46b53392-9ad0-4414-f98a-79e3bbdb6ed0",
        "colab": {
          "base_uri": "https://localhost:8080/",
          "height": 34
        }
      },
      "source": [
        "try:\n",
        "\n",
        "    import tensorflow as tf\n",
        "    import cv2\n",
        "    import os\n",
        "    import pickle\n",
        "    import numpy as np\n",
        "    print(\"Library Loaded Successfully ..........\")\n",
        "except:\n",
        "    print(\"Library not Found ! \")\n",
        "\n",
        "\n",
        "class MasterImage(object):\n",
        "\n",
        "    def __init__(self,PATH='', IMAGE_SIZE = 50):\n",
        "        self.PATH = PATH\n",
        "        self.IMAGE_SIZE = IMAGE_SIZE\n",
        "\n",
        "        self.image_data = []\n",
        "        self.x_data = []\n",
        "        self.y_data = []\n",
        "        self.CATEGORIES = []\n",
        "\n",
        "        # This will get List of categories\n",
        "        self.list_categories = []\n",
        "\n",
        "    def get_categories(self):\n",
        "        for path in os.listdir(self.PATH):\n",
        "            if '.DS_Store' in path:\n",
        "                pass\n",
        "            else:\n",
        "                self.list_categories.append(path)\n",
        "        print(\"Found Categories \",self.list_categories,'\\n')\n",
        "        return self.list_categories\n",
        "\n",
        "    def Process_Image(self):\n",
        "        try:\n",
        "            \"\"\"\n",
        "            Return Numpy array of image\n",
        "            :return: X_Data, Y_Data\n",
        "            \"\"\"\n",
        "            self.CATEGORIES = self.get_categories()\n",
        "            for categories in self.CATEGORIES:                                                  # Iterate over categories\n",
        "\n",
        "                train_folder_path = os.path.join(self.PATH, categories)                         # Folder Path\n",
        "                class_index = self.CATEGORIES.index(categories)                                 # this will get index for classification\n",
        "\n",
        "                for img in os.listdir(train_folder_path):                                       # This will iterate in the Folder\n",
        "                    new_path = os.path.join(train_folder_path, img)                             # image Path\n",
        "\n",
        "                    try:        # if any image is corrupted\n",
        "                        image_data_temp = cv2.imread(new_path,cv2.IMREAD_GRAYSCALE)                 # Read Image as numbers\n",
        "                        image_temp_resize = cv2.resize(image_data_temp,(self.IMAGE_SIZE,self.IMAGE_SIZE))\n",
        "                        self.image_data.append([image_temp_resize,class_index])\n",
        "                    except:\n",
        "                        pass\n",
        "\n",
        "            data = np.asanyarray(self.image_data)\n",
        "\n",
        "            # Iterate over the Data\n",
        "            for x in data:\n",
        "                self.x_data.append(x[0])        # Get the X_Data\n",
        "                self.y_data.append(x[1])        # get the label\n",
        "\n",
        "            X_Data = np.asarray(self.x_data) / (255.0)      # Normalize Data\n",
        "            Y_Data = np.asarray(self.y_data)\n",
        "\n",
        "            # reshape x_Data\n",
        "\n",
        "            X_Data = X_Data.reshape(-1, self.IMAGE_SIZE, self.IMAGE_SIZE, 1)\n",
        "\n",
        "            return X_Data, Y_Data\n",
        "        except:\n",
        "            print(\"Failed to run Function Process Image \")\n",
        "\n",
        "    def pickle_image(self):\n",
        "\n",
        "        \"\"\"\n",
        "        :return: None Creates a Pickle Object of DataSet\n",
        "        \"\"\"\n",
        "        # Call the Function and Get the Data\n",
        "        X_Data,Y_Data = self.Process_Image()\n",
        "\n",
        "        # Write the Entire Data into a Pickle File\n",
        "        pickle_out = open('X_Data','wb')\n",
        "        pickle.dump(X_Data, pickle_out, protocol = 4)\n",
        "        pickle_out.close()\n",
        "\n",
        "        # Write the Y Label Data\n",
        "        pickle_out = open('Y_Data', 'wb')\n",
        "        pickle.dump(Y_Data, pickle_out, protocol = 4)\n",
        "        pickle_out.close()\n",
        "\n",
        "        print(\"Pickled Image Successfully \")\n",
        "        return X_Data,Y_Data\n",
        "\n",
        "    def load_dataset(self):\n",
        "\n",
        "        try:\n",
        "            # Read the Data from Pickle Object\n",
        "            X_Temp = open('X_Data','rb')\n",
        "            X_Data = pickle.load(X_Temp)\n",
        "\n",
        "            Y_Temp = open('Y_Data','rb')\n",
        "            Y_Data = pickle.load(Y_Temp)\n",
        "\n",
        "            print('Reading Dataset from PIckle Object')\n",
        "\n",
        "            return X_Data,Y_Data\n",
        "\n",
        "        except:\n",
        "            print('Could not Found Pickle File ')\n",
        "            print('Loading File and Dataset  ..........')\n",
        "\n",
        "            X_Data,Y_Data = self.pickle_image()\n",
        "            return X_Data,Y_Data"
      ],
      "execution_count": 0,
      "outputs": [
        {
          "output_type": "stream",
          "text": [
            "Library Loaded Successfully ..........\n"
          ],
          "name": "stdout"
        }
      ]
    },
    {
      "cell_type": "code",
      "metadata": {
        "id": "A51nC9SPOXJq",
        "colab_type": "code",
        "outputId": "00a3ba97-9c21-4942-d879-301092260c98",
        "colab": {
          "base_uri": "https://localhost:8080/",
          "height": 139
        }
      },
      "source": [
        "if __name__ == \"__main__\":\n",
        "#     path = '/Users/soumilshah/IdeaProjects/mytensorflow/Dataset/training_set'\n",
        "    path = '~/Content/train_data'\n",
        "    a = MasterImage(PATH=path, IMAGE_SIZE=80)\n",
        "\n",
        "    X_Data,Y_Data = a.load_dataset()\n",
        "    print(X_Data.shape)"
      ],
      "execution_count": 0,
      "outputs": [
        {
          "output_type": "stream",
          "text": [
            "Could not Found Pickle File \n",
            "Loading File and Dataset  ..........\n",
            "Found Categories  ['14044_Flammulaster_granulosus', '14181_Geastrum_pectinatum', '10052_Agaricus_altipes', '13330_Cinereomyces_lindbladii', '10234_Amanita_fulva', '14184_Geastrum_rufescens', '10056_Agaricus_arvensis', '10666_Ascocoryne_cylichnium', '13459_Encoelia_furfuracea', '10317_Amylostereum_chailletii', '12226_Cordyceps_militaris', '11573_Chalciporus_piperatus', '11912_Conocybe_albipes', '10108_Agaricus_sylvicola', '12763_Hericium_cirrhatum', '11284_Calyptella_campanula', '10065_Agaricus_campestris', '12392_Cortinarius_danicus', '14051_Flammulaster_subincarnatus', '12399_Cortinarius_diasemospermus var. diasemospermus_', '11064_Imleria_badia', '11083_Boletus_pinophilus', '13798_Entoloma_vernum', '12076_Coprinopsis_ephemeroides', '10526_Armillaria_mellea', '14148_Galerina_vittiformis', '14428_Gymnopilus_penetrans', '13528_Entoloma_atrocoeruleum', '10079_Agaricus_impudicus', '10263_Amanita_rubescens var. rubescens', '10891_Asterophora_parasitica', '14119_Galerina_marginata', '10930_Aurantiporus_croceus', '10667_Ascocoryne_sarcoides', '10082_Agaricus_langei', '14146_Galerina_triscopa', '14310_Meruliopsis_taxicola', '13723_Entoloma_prunuloides', '11210_Byssocorticium_atrovirens', '11286_Calyptella_gibbosa', '14114_Galerina_hypnorum', '12656_Cortinarius_torvus', '11759_Infundibulicybe_costata', '11466_Ceriporia_purpurea', '10128_Agrocybe_praecox', '10931_Aurantiporus_fissilis', '12486_Cortinarius_limonius', '12428_Cortinarius_flexipes var. inolens', '13035_Datronia_mollis', '11746_Clitocybe_agrestis', '12919_Cylindrobasidium_laeve', '10427_Antrodia_malicola', '12597_Cortinarius_saturninus', '11317_Cantharellus_cibarius', '12268_Cortinarius_alboviolaceus', '12971_Dacryobolus_karstenii', '13594_Entoloma_euchroum', '12396_Cortinarius_delibutus', '13710_Entoloma_pleopodium', '11229_Calloria_neglecta', '12479_Cortinarius_largus', '10062_Agaricus_bitorquis', '10273_Amanita_virosa', '14208_Geoglossum_fallax', '13406_Dumontinia_tuberosa', '10127_Agrocybe_pediades', '11106_Botryobasidium_aureum', '13056_Dendrothele_acerina', '13099_Dermoloma_cuneifolium', '10025_Achroomyces_disciformis', '11793_Clitocybe_odora var. odora_', '12575_Cortinarius_phoeniceus', '13626_Entoloma_incarnatofuscescens', '12426_Cortinarius_flexipes', '10120_Agrocybe_arvalis', '10432_Antrodia_serialis', '12220_Ophiocordyceps_entomorrhiza', '11043_Bjerkandera_adusta', '12595_Cortinarius_saniosus', '13790_Entoloma_undatum', '10702_Ascotremella_faginea', '12195_Cheilymenia_granulata', '10111_Agaricus_subfloccosus', '12066_Coprinus_comatus', '14190_Geastrum_michelianum', '11822_Clitopilus_hobsonii', '14062_Fomes_fomentarius', '10174_Aleurodiscus_amorphus', '11903_Coniophora_puteana', '11082_Xerocomellus_chrysenteron', '10676_Ascodichaena_rugosa', '10107_Agaricus_sylvaticus', '13041_Delicatula_integrella', '11477_Ceriporiopsis_resinascens', '12937_Cystodermella_granulosa', '11086_Xerocomellus_pruinatus', '10112_Agaricus_subperonatus', '13761_Entoloma_sericellum', '12785_Crepidotus_variabilis', '10559_Arrhenia_retiruga', '12446_Cortinarius_hemitrichus', '12933_Cystoderma_amianthinum', '13574_Entoloma_conferendum', '12269_Cortinarius_alcalinophilus', '12770_Crepidotus_cesatii', '12352_Cortinarius_cinnabarinus', '10097_Agaricus_porphyrizon', '12382_Cortinarius_croceus', '11767_Clitocybe_fragrans', '13675_Entoloma_mougeotii', '11314_Cantharellus_amethysteus', '10558_Arrhenia_lobata', '14430_Gymnopus_acervatus', '12590_Cortinarius_rufo-olivaceus', '13760_Entoloma_sericatum', '13765_Entoloma_serrulatum', '11790_Clitocybe_nebularis var. nebularis_', '11163_Bovista_nigrescens', '10158_Aleuria_aurantia', '12753_Craterellus_tubaeformis', '12534_Cortinarius_parvannulatus', '12502_Cortinarius_mucosus', '11736_Clavulinopsis_helvola', '12378_Cortinarius_croceocaeruleus', '13953_Exidia_pithya', '11295_Camarops_polysperma', '10934_Auricularia_auricula-judae', '12778_Crepidotus_luteolus', '12576_Cortinarius_quarciticus', '12667_Cortinarius_umbrinolens', '12634_Cortinarius_subpurpurascens', '11858_Collybia_cirrhata', '14105_Galerina_cephalotricha', '12647_Cortinarius_tabularis', '12663_Cortinarius_turgidus', '11900_Coniophora_arida', '12449_Cortinarius_hinnuleus', '11738_Clavulinopsis_luteoalba', '14370_Gomphidius_maculatus', '11730_Clavulina_rugosa', '10890_Asterophora_lycoperdoides', '11044_Bjerkandera_fumosa', '11165_Bovista_plumbea', '12317_Cortinarius_foetens', '13770_Entoloma_sordidulum', '12228_Elaphocordyceps_ophioglossoides', '14132_Galerina_pumila', '11374_Ceraceomyces_serpens', '13560_Entoloma_chalybaeum var. chalybaeum_', '13764_Entoloma_sericeum var. sericeum_', '10083_Agaricus_lanipes', '12939_Cystoderma_jasonis', '11718_Claviceps_purpurea', '11796_Clitocybe_phaeophthalma', '10068_Agaricus_comtulus', '14434_Gymnopus_confluens', '12338_Cortinarius_caninus', '12607_Cortinarius_fusisporus', '13738_Entoloma_rhodocalyx', '12594_Cortinarius_sanguineus', '12290_Cortinarius_armillatus', '12325_Cortinarius_caesiocortinatus', '11325_Cantharellus_pallens', '13788_Entoloma_turbidum', '11093_Boletus_reticulatus', '14369_Gomphidius_glutinosus', '14155_Ganoderma_adspersum', '14186_Geastrum_schmidelii', '14337_Glyphium_elatum', '12361_Cortinarius_caerulescens', '12660_Cortinarius_trivialis', '12572_Cortinarius_purpurascens', '12918_Cyathus_striatus', '13952_Exidia_glandulosa', '11117_Botryobasidium_subcoronatum', '10260_Amanita_porphyria', '11733_Clavulinopsis_corniculata', '12622_Cortinarius_stillatitius', '10227_Amanita_crocea', '12494_Cortinarius_malicorius', '11234_Calocera_viscosa', '12580_Cortinarius_raphanoides', '12558_Cortinarius_pratensis', '13962_Exidiopsis_effusa', '14161_Ganoderma_resinaceum', '11068_Caloboletus_calopus', '12935_Cystoderma_carcharias', '11748_Clitocybe_alexandri', '11237_Calocybe_gambosa', '10090_Agaricus_moelleri', '10937_Auricularia_mesenterica', '11069_Boletus_edulis', '11107_Botryobasidium_vagum', '10106_Agaricus_dulcidulus', '11206_Bulgaria_inquinans', '14159_Ganoderma_lucidum', '11866_Coltricia_confluens', '11467_Ceriporia_reticulata', '11231_Calocera_furcata', '13189_Diatrype_bullata', '10225_Amanita_ceciliae', '12750_Craterellus_cornucopioides', '10123_Agrocybe_dura', '12107_Coprinopsis_kubickae', '11859_Collybia_cookei', '11318_Craterellus_cinereus', '11807_Infundibulicybe_squamulosa', '12521_Cortinarius_olearioides', '10249_Amanita_citrina var. citrina', '11176_Brevicellicium_olivascens', '14032_Fistulina_hepatica', '11711_Clavariadelphus_pistillaris', '14432_Gymnopus_aquosus', '12541_Cortinarius_pholideus', '13002_Daedalea_quercina', '12513_Cortinarius_obtusus', '12901_Cudoniella_acicularis', '10235_Amanita_gemmata', '13504_Reticularia_lycoperdon', '14221_Geoglossum_umbratile', '12489_Cortinarius_lucorum', '10085_Agaricus_litoralis', '13958_Exidia_thuretiana', '11614_Chroogomphus_rutilus', '12393_Cortinarius_decipiens', '12681_Cortinarius_vernus', '12307_Cortinarius_barbatus', '11285_Calyptella_capula', '12947_Cystolepiota_adulterina', '14306_Gloeophyllum_sepiarium', '11787_Clitocybe_metachroa', '10059_Agaricus_bernardii', '10527_Armillaria_ostoyae', '10979_Bankera_violascens', '14422_Gymnopilus_spectabilis', '12493_Cortinarius_malachius', '10232_Amanita_franchetii', '13652_Entoloma_lanuginosipes', '14126_Galerina_paludosa', '12313_Cortinarius_biformis', '10440_Antrodiella_serpula', '13007_Daldinia_concentrica', '13680_Entoloma_neglectum', '12354_Cortinarius_cinnamomeus', '12768_Crepidotus_calolepis', '10242_Amanita_lividopallescens', '14158_Ganoderma_applanatum', '13439_Elaphomyces_muricatus', '13361_Disciotis_venosa', '14117_Galerina_graminea', '14207_Geoglossum_elongatum', '11737_Clavulinopsis_laeticolor', '12260_Corticium_roseum', '11291_Camarophyllopsis_schulzeri', '12948_Cystolepiota_bucknallii', '10940_Auriscalpium_vulgare', '14072_Fuligo_septica var. rufa', '10933_Aureoboletus_gentilis', '12280_Cortinarius_anserinus', '12633_Cortinarius_subporphyropus', '13527_Entoloma_asprellum', '12985_Dacrymyces_stillatus', '12503_Cortinarius_multiformis', '12524_Cortinarius_olivaceofuscus', '10969_Baeospora_myosura', '11034_Calycina_citrina', '11482_Cerrena_unicolor', '11230_Calocera_cornea', '12374_Cortinarius_cotoneus', '11633_Ciboria_rufofusca', '13757_Entoloma_scabropellis', '13660_Entoloma_lividoalbum', '11760_Clitocybe_diatreta', '11771_Infundibulicybe_geotropa', '13003_Daedaleopsis_confragosa', '12016_Conocybe_subpubescens', '14046_Flammulaster_muricatus', '12606_Cortinarius_semisanguineus', '13605_Entoloma_formosum', '11384_Ceratiomyxa_fruticulosa', '12659_Cortinarius_triumphans', '11608_Chondrostereum_purpureum', '12315_Cortinarius_bolaris', '14394_Grifola_frondosa', '12282_Cortinarius_aprinus', '11816_Clitocybe_vibecina', '12657_Cortinarius_traganus', '11202_Buglossoporus_quercinus', '10230_Amanita_excelsa', '12637_Cortinarius_subtortus', '12339_Cortinarius_caperatus', '13198_Diatrypella_quercina', '11067_Hortiboletus_bubalinus', '12956_Cystolepiota_seminuda', '12308_Cortinarius_bataillei', '10929_Aurantiporus_alborubescens', '13558_Entoloma_cetratum', '11341_Capitotricha_bicolor', '13759_Entoloma_sepium', '12654_Cortinarius_tophaceus', '11462_Ceriporia_excelsa', '11600_Chlorociboria_aeruginascens', '12805_Crinipellis_scabella', '13203_Dichomitus_campestris', '10318_Amylostereum_laevigatum', '11813_Clitocybe_trulliformis', '11996_Conocybe_rickenii', '10258_Amanita_phalloides var. phalloides_', '13954_Exidia_recisa', '13739_Entoloma_rhodopolium', '12001_Conocybe_semiglobata', '11707_Clavaria_zollingeri', '11867_Coltricia_perennis', '11691_Clavaria_argillacea', '13595_Entoloma_sinuatum', '13716_Entoloma_politum', '14205_Geoglossum_cookeanum', '13956_Exidia_saccharina', '12689_Cortinarius_vulpinus', '12780_Crepidotus_mollis', '11101_Xerocomus_subtomentosus', '14435_Gymnopus_dryophilus', '13613_Entoloma_griseocyaneum', '11081_Pseudoboletus_parasiticus', '11217_Byssonectria_terrestris', '11033_Bispora_antennata', '14425_Gymnopilus_picreus', '14436_Gymnopus_erythropus', '14175_Geastrum_fimbriatum', '12364_Cortinarius_collinitus', '11095_Hortiboletus_rubellus', '14160_Ganoderma_pfeifferi', '11575_Chamaemyces_fracidus', '12368_Cortinarius_comptulus', '10561_Arrhenia_spathulata', '11038_Bisporella_pallescens', '14064_Fomitopsis_pinicola', '10267_Amanita_submembranacea', '12777_Crepidotus_lundellii', '10116_Agaricus_xanthodermus', '13569_Entoloma_clypeatum', '11803_Clitocybe_rivulosa', '12487_Cortinarius_elatior', '11762_Clitocybe_ditopus', '11825_Clitopilus_prunulus', '11088_Cyanoboletus_pulverulentus', '13685_Entoloma_nitidum', '11091_Caloboletus_radicans', '13965_Exidiopsis_grisea', '14308_Gloeoporus_dichrous', '12686_Cortinarius_violaceus', '10252_Amanita_muscaria', '12765_Crepidotus_applanatus', '10994_Basidioradulum_radula', '12332_Cortinarius_calochrous', '11085_Xerocomellus_porosporus', '13698_Entoloma_papillatum', '10271_Amanita_vaginata var. vaginata', '11865_Colpoma_quercinum', '14073_Fuligo_septica', '13936_Eutypa_spinosa', '12427_Cortinarius_flexipes var. flabellus', '12346_Cortinarius_bergeronii', '11062_Butyriboletus_appendiculatus', '12263_Cortinarius_acutus', '11797_Clitocybe_phyllophila', '10257_Amanita_pantherina', '11054_Bolbitius_titubans', '13625_Entoloma_incanum', '12915_Cyathus_olla', '14056_Flammulina_velutipes var. velutipes', '12648_Cortinarius_talus', '13616_Entoloma_hebes', '10069_Agaricus_cupreobrunneus', '12413_Cortinarius_elegantissimus', '12562_Cortinarius_psammocephalus', '12279_Cortinarius_anomalus', '11696_Clavaria_fragilis', '10554_Arrhenia_acerosa', '12357_Cortinarius_citrinus', '12341_Cortinarius_casimiri', '14371_Gomphidius_roseus', '14106_Galerina_clavata', '11297_Camarops_tubulina', '12665_Cortinarius_uliginosus f. uliginosus_', '11073_Hemileccinum_impolitum', '11772_Infundibulicybe_gibba', '10057_Agaricus_augustus', '10266_Amanita_strobiliformis', '13190_Diatrype_disciformis', '14069_Fuligo_leviderma', '13207_Dictydiaethalium_plumbeum', '12587_Cortinarius_rubellus', '13598_Entoloma_exile', '13997_Exobasidium_vaccinii', '12899_Cudonia_circinans', '10061_Agaricus_bisporus', '12444_Cortinarius_helvelloides', '12979_Dacrymyces_lacrymalis', '11623_Ciboria_caucus'] \n",
            "\n",
            "Pickled Image Successfully \n",
            "(26385, 80, 80, 1)\n"
          ],
          "name": "stdout"
        }
      ]
    },
    {
      "cell_type": "code",
      "metadata": {
        "id": "nMpyBK4MOXd7",
        "colab_type": "code",
        "colab": {}
      },
      "source": [
        "X_train, X_test, y_train, y_test = train_test_split(X_Data, Y_Data, test_size=0.2)"
      ],
      "execution_count": 0,
      "outputs": []
    },
    {
      "cell_type": "code",
      "metadata": {
        "id": "5flAX4M4OZR8",
        "colab_type": "code",
        "outputId": "bcceaf37-361d-4a4e-f105-c0cd90a7b474",
        "colab": {
          "base_uri": "https://localhost:8080/",
          "height": 1000
        }
      },
      "source": [
        "# X_Data=X_Data/255\n",
        "\n",
        "model = Sequential()\n",
        "\n",
        "model.add(   Conv2D(150, (3,3), input_shape = X_train.shape[1:])   )\n",
        "# model.add(   Conv2D(150, (3,3), input_shape = X.shape[1:])   )\n",
        "model.add(Activation(\"relu\"))\n",
        "model.add(MaxPooling2D(pool_size=(2,2)))\n",
        "\n",
        "model.add(Dropout(0.4))\n",
        "model.add(Conv2D(75, (3,3)))\n",
        "model.add(Activation(\"relu\"))\n",
        "model.add(MaxPooling2D(pool_size=(2,2)))\n",
        "model.add(Dense(128))\n",
        "\n",
        "model.add(Dropout(0.4))\n",
        "model.add(Flatten())\n",
        "model.add(Dense(64))\n",
        "\n",
        "model.add(Dropout(0.4))\n",
        "model.add(Flatten())\n",
        "model.add(Dense(64))\n",
        "\n",
        "model.add(Dropout(0.4))\n",
        "model.add(Dense(256))\n",
        "model.add(Activation('softmax'))\n",
        "\n",
        "model.compile(loss=\"sparse_categorical_crossentropy\", optimizer=\"adam\", metrics=['accuracy'])\n",
        "\n",
        "model.fit(X_Data, Y_Data, batch_size=64, epochs=20, validation_data=(X_test, y_test))\n",
        "\n"
      ],
      "execution_count": 0,
      "outputs": [
        {
          "output_type": "stream",
          "text": [
            "Epoch 1/20\n",
            "413/413 [==============================] - 28s 69ms/step - loss: nan - accuracy: 5.3060e-04 - val_loss: nan - val_accuracy: 7.5801e-04\n",
            "Epoch 2/20\n",
            "413/413 [==============================] - 28s 68ms/step - loss: nan - accuracy: 4.9270e-04 - val_loss: nan - val_accuracy: 7.5801e-04\n",
            "Epoch 3/20\n",
            "413/413 [==============================] - 28s 68ms/step - loss: nan - accuracy: 4.9270e-04 - val_loss: nan - val_accuracy: 7.5801e-04\n",
            "Epoch 4/20\n",
            "413/413 [==============================] - 28s 69ms/step - loss: nan - accuracy: 4.9270e-04 - val_loss: nan - val_accuracy: 7.5801e-04\n",
            "Epoch 5/20\n",
            "413/413 [==============================] - 28s 68ms/step - loss: nan - accuracy: 4.9270e-04 - val_loss: nan - val_accuracy: 7.5801e-04\n",
            "Epoch 6/20\n",
            "413/413 [==============================] - 28s 68ms/step - loss: nan - accuracy: 4.9270e-04 - val_loss: nan - val_accuracy: 7.5801e-04\n",
            "Epoch 7/20\n",
            "413/413 [==============================] - 28s 68ms/step - loss: nan - accuracy: 4.9270e-04 - val_loss: nan - val_accuracy: 7.5801e-04\n",
            "Epoch 8/20\n",
            "413/413 [==============================] - 28s 68ms/step - loss: nan - accuracy: 4.9270e-04 - val_loss: nan - val_accuracy: 7.5801e-04\n",
            "Epoch 9/20\n",
            "413/413 [==============================] - 28s 68ms/step - loss: nan - accuracy: 4.9270e-04 - val_loss: nan - val_accuracy: 7.5801e-04\n",
            "Epoch 10/20\n",
            "413/413 [==============================] - 28s 68ms/step - loss: nan - accuracy: 4.9270e-04 - val_loss: nan - val_accuracy: 7.5801e-04\n",
            "Epoch 11/20\n",
            "413/413 [==============================] - 28s 68ms/step - loss: nan - accuracy: 4.9270e-04 - val_loss: nan - val_accuracy: 7.5801e-04\n",
            "Epoch 12/20\n",
            "413/413 [==============================] - 28s 67ms/step - loss: nan - accuracy: 4.9270e-04 - val_loss: nan - val_accuracy: 7.5801e-04\n",
            "Epoch 13/20\n",
            "413/413 [==============================] - 28s 68ms/step - loss: nan - accuracy: 4.9270e-04 - val_loss: nan - val_accuracy: 7.5801e-04\n",
            "Epoch 14/20\n",
            "413/413 [==============================] - 28s 68ms/step - loss: nan - accuracy: 4.9270e-04 - val_loss: nan - val_accuracy: 7.5801e-04\n",
            "Epoch 15/20\n",
            "413/413 [==============================] - 28s 68ms/step - loss: nan - accuracy: 4.9270e-04 - val_loss: nan - val_accuracy: 7.5801e-04\n",
            "Epoch 16/20\n",
            "413/413 [==============================] - 28s 68ms/step - loss: nan - accuracy: 4.9270e-04 - val_loss: nan - val_accuracy: 7.5801e-04\n",
            "Epoch 17/20\n",
            "413/413 [==============================] - 28s 68ms/step - loss: nan - accuracy: 4.9270e-04 - val_loss: nan - val_accuracy: 7.5801e-04\n",
            "Epoch 18/20\n",
            "413/413 [==============================] - 28s 67ms/step - loss: nan - accuracy: 4.9270e-04 - val_loss: nan - val_accuracy: 7.5801e-04\n",
            "Epoch 19/20\n",
            " 76/413 [====>.........................] - ETA: 21s - loss: nan - accuracy: 2.0559e-04"
          ],
          "name": "stdout"
        },
        {
          "output_type": "error",
          "ename": "KeyboardInterrupt",
          "evalue": "ignored",
          "traceback": [
            "\u001b[0;31m---------------------------------------------------------------------------\u001b[0m",
            "\u001b[0;31mKeyboardInterrupt\u001b[0m                         Traceback (most recent call last)",
            "\u001b[0;32m<ipython-input-13-fb0930494747>\u001b[0m in \u001b[0;36m<module>\u001b[0;34m()\u001b[0m\n\u001b[1;32m     27\u001b[0m \u001b[0mmodel\u001b[0m\u001b[0;34m.\u001b[0m\u001b[0mcompile\u001b[0m\u001b[0;34m(\u001b[0m\u001b[0mloss\u001b[0m\u001b[0;34m=\u001b[0m\u001b[0;34m\"sparse_categorical_crossentropy\"\u001b[0m\u001b[0;34m,\u001b[0m \u001b[0moptimizer\u001b[0m\u001b[0;34m=\u001b[0m\u001b[0;34m\"adam\"\u001b[0m\u001b[0;34m,\u001b[0m \u001b[0mmetrics\u001b[0m\u001b[0;34m=\u001b[0m\u001b[0;34m[\u001b[0m\u001b[0;34m'accuracy'\u001b[0m\u001b[0;34m]\u001b[0m\u001b[0;34m)\u001b[0m\u001b[0;34m\u001b[0m\u001b[0;34m\u001b[0m\u001b[0m\n\u001b[1;32m     28\u001b[0m \u001b[0;34m\u001b[0m\u001b[0m\n\u001b[0;32m---> 29\u001b[0;31m \u001b[0mmodel\u001b[0m\u001b[0;34m.\u001b[0m\u001b[0mfit\u001b[0m\u001b[0;34m(\u001b[0m\u001b[0mX_Data\u001b[0m\u001b[0;34m,\u001b[0m \u001b[0mY_Data\u001b[0m\u001b[0;34m,\u001b[0m \u001b[0mbatch_size\u001b[0m\u001b[0;34m=\u001b[0m\u001b[0;36m64\u001b[0m\u001b[0;34m,\u001b[0m \u001b[0mepochs\u001b[0m\u001b[0;34m=\u001b[0m\u001b[0;36m20\u001b[0m\u001b[0;34m,\u001b[0m \u001b[0mvalidation_data\u001b[0m\u001b[0;34m=\u001b[0m\u001b[0;34m(\u001b[0m\u001b[0mX_test\u001b[0m\u001b[0;34m,\u001b[0m \u001b[0my_test\u001b[0m\u001b[0;34m)\u001b[0m\u001b[0;34m)\u001b[0m\u001b[0;34m\u001b[0m\u001b[0;34m\u001b[0m\u001b[0m\n\u001b[0m\u001b[1;32m     30\u001b[0m \u001b[0;31m# batch size kinda depends on the size of the dataset, 32 is being used for now for the test, might change it up to 200 or 2000 during implementation\u001b[0m\u001b[0;34m\u001b[0m\u001b[0;34m\u001b[0m\u001b[0;34m\u001b[0m\u001b[0m\n",
            "\u001b[0;32m/usr/local/lib/python3.6/dist-packages/tensorflow/python/keras/engine/training.py\u001b[0m in \u001b[0;36m_method_wrapper\u001b[0;34m(self, *args, **kwargs)\u001b[0m\n\u001b[1;32m     64\u001b[0m   \u001b[0;32mdef\u001b[0m \u001b[0m_method_wrapper\u001b[0m\u001b[0;34m(\u001b[0m\u001b[0mself\u001b[0m\u001b[0;34m,\u001b[0m \u001b[0;34m*\u001b[0m\u001b[0margs\u001b[0m\u001b[0;34m,\u001b[0m \u001b[0;34m**\u001b[0m\u001b[0mkwargs\u001b[0m\u001b[0;34m)\u001b[0m\u001b[0;34m:\u001b[0m\u001b[0;34m\u001b[0m\u001b[0;34m\u001b[0m\u001b[0m\n\u001b[1;32m     65\u001b[0m     \u001b[0;32mif\u001b[0m \u001b[0;32mnot\u001b[0m \u001b[0mself\u001b[0m\u001b[0;34m.\u001b[0m\u001b[0m_in_multi_worker_mode\u001b[0m\u001b[0;34m(\u001b[0m\u001b[0;34m)\u001b[0m\u001b[0;34m:\u001b[0m  \u001b[0;31m# pylint: disable=protected-access\u001b[0m\u001b[0;34m\u001b[0m\u001b[0;34m\u001b[0m\u001b[0m\n\u001b[0;32m---> 66\u001b[0;31m       \u001b[0;32mreturn\u001b[0m \u001b[0mmethod\u001b[0m\u001b[0;34m(\u001b[0m\u001b[0mself\u001b[0m\u001b[0;34m,\u001b[0m \u001b[0;34m*\u001b[0m\u001b[0margs\u001b[0m\u001b[0;34m,\u001b[0m \u001b[0;34m**\u001b[0m\u001b[0mkwargs\u001b[0m\u001b[0;34m)\u001b[0m\u001b[0;34m\u001b[0m\u001b[0;34m\u001b[0m\u001b[0m\n\u001b[0m\u001b[1;32m     67\u001b[0m \u001b[0;34m\u001b[0m\u001b[0m\n\u001b[1;32m     68\u001b[0m     \u001b[0;31m# Running inside `run_distribute_coordinator` already.\u001b[0m\u001b[0;34m\u001b[0m\u001b[0;34m\u001b[0m\u001b[0;34m\u001b[0m\u001b[0m\n",
            "\u001b[0;32m/usr/local/lib/python3.6/dist-packages/tensorflow/python/keras/engine/training.py\u001b[0m in \u001b[0;36mfit\u001b[0;34m(self, x, y, batch_size, epochs, verbose, callbacks, validation_split, validation_data, shuffle, class_weight, sample_weight, initial_epoch, steps_per_epoch, validation_steps, validation_batch_size, validation_freq, max_queue_size, workers, use_multiprocessing, **kwargs)\u001b[0m\n\u001b[1;32m    849\u001b[0m                 batch_size=batch_size):\n\u001b[1;32m    850\u001b[0m               \u001b[0mcallbacks\u001b[0m\u001b[0;34m.\u001b[0m\u001b[0mon_train_batch_begin\u001b[0m\u001b[0;34m(\u001b[0m\u001b[0mstep\u001b[0m\u001b[0;34m)\u001b[0m\u001b[0;34m\u001b[0m\u001b[0;34m\u001b[0m\u001b[0m\n\u001b[0;32m--> 851\u001b[0;31m               \u001b[0mtmp_logs\u001b[0m \u001b[0;34m=\u001b[0m \u001b[0mtrain_function\u001b[0m\u001b[0;34m(\u001b[0m\u001b[0miterator\u001b[0m\u001b[0;34m)\u001b[0m\u001b[0;34m\u001b[0m\u001b[0;34m\u001b[0m\u001b[0m\n\u001b[0m\u001b[1;32m    852\u001b[0m               \u001b[0;31m# Catch OutOfRangeError for Datasets of unknown size.\u001b[0m\u001b[0;34m\u001b[0m\u001b[0;34m\u001b[0m\u001b[0;34m\u001b[0m\u001b[0m\n\u001b[1;32m    853\u001b[0m               \u001b[0;31m# This blocks until the batch has finished executing.\u001b[0m\u001b[0;34m\u001b[0m\u001b[0;34m\u001b[0m\u001b[0;34m\u001b[0m\u001b[0m\n",
            "\u001b[0;32m/usr/local/lib/python3.6/dist-packages/tensorflow/python/eager/def_function.py\u001b[0m in \u001b[0;36m__call__\u001b[0;34m(self, *args, **kwds)\u001b[0m\n\u001b[1;32m    578\u001b[0m         \u001b[0mxla_context\u001b[0m\u001b[0;34m.\u001b[0m\u001b[0mExit\u001b[0m\u001b[0;34m(\u001b[0m\u001b[0;34m)\u001b[0m\u001b[0;34m\u001b[0m\u001b[0;34m\u001b[0m\u001b[0m\n\u001b[1;32m    579\u001b[0m     \u001b[0;32melse\u001b[0m\u001b[0;34m:\u001b[0m\u001b[0;34m\u001b[0m\u001b[0;34m\u001b[0m\u001b[0m\n\u001b[0;32m--> 580\u001b[0;31m       \u001b[0mresult\u001b[0m \u001b[0;34m=\u001b[0m \u001b[0mself\u001b[0m\u001b[0;34m.\u001b[0m\u001b[0m_call\u001b[0m\u001b[0;34m(\u001b[0m\u001b[0;34m*\u001b[0m\u001b[0margs\u001b[0m\u001b[0;34m,\u001b[0m \u001b[0;34m**\u001b[0m\u001b[0mkwds\u001b[0m\u001b[0;34m)\u001b[0m\u001b[0;34m\u001b[0m\u001b[0;34m\u001b[0m\u001b[0m\n\u001b[0m\u001b[1;32m    581\u001b[0m \u001b[0;34m\u001b[0m\u001b[0m\n\u001b[1;32m    582\u001b[0m     \u001b[0;32mif\u001b[0m \u001b[0mtracing_count\u001b[0m \u001b[0;34m==\u001b[0m \u001b[0mself\u001b[0m\u001b[0;34m.\u001b[0m\u001b[0m_get_tracing_count\u001b[0m\u001b[0;34m(\u001b[0m\u001b[0;34m)\u001b[0m\u001b[0;34m:\u001b[0m\u001b[0;34m\u001b[0m\u001b[0;34m\u001b[0m\u001b[0m\n",
            "\u001b[0;32m/usr/local/lib/python3.6/dist-packages/tensorflow/python/eager/def_function.py\u001b[0m in \u001b[0;36m_call\u001b[0;34m(self, *args, **kwds)\u001b[0m\n\u001b[1;32m    609\u001b[0m       \u001b[0;31m# In this case we have created variables on the first call, so we run the\u001b[0m\u001b[0;34m\u001b[0m\u001b[0;34m\u001b[0m\u001b[0;34m\u001b[0m\u001b[0m\n\u001b[1;32m    610\u001b[0m       \u001b[0;31m# defunned version which is guaranteed to never create variables.\u001b[0m\u001b[0;34m\u001b[0m\u001b[0;34m\u001b[0m\u001b[0;34m\u001b[0m\u001b[0m\n\u001b[0;32m--> 611\u001b[0;31m       \u001b[0;32mreturn\u001b[0m \u001b[0mself\u001b[0m\u001b[0;34m.\u001b[0m\u001b[0m_stateless_fn\u001b[0m\u001b[0;34m(\u001b[0m\u001b[0;34m*\u001b[0m\u001b[0margs\u001b[0m\u001b[0;34m,\u001b[0m \u001b[0;34m**\u001b[0m\u001b[0mkwds\u001b[0m\u001b[0;34m)\u001b[0m  \u001b[0;31m# pylint: disable=not-callable\u001b[0m\u001b[0;34m\u001b[0m\u001b[0;34m\u001b[0m\u001b[0m\n\u001b[0m\u001b[1;32m    612\u001b[0m     \u001b[0;32melif\u001b[0m \u001b[0mself\u001b[0m\u001b[0;34m.\u001b[0m\u001b[0m_stateful_fn\u001b[0m \u001b[0;32mis\u001b[0m \u001b[0;32mnot\u001b[0m \u001b[0;32mNone\u001b[0m\u001b[0;34m:\u001b[0m\u001b[0;34m\u001b[0m\u001b[0;34m\u001b[0m\u001b[0m\n\u001b[1;32m    613\u001b[0m       \u001b[0;31m# Release the lock early so that multiple threads can perform the call\u001b[0m\u001b[0;34m\u001b[0m\u001b[0;34m\u001b[0m\u001b[0;34m\u001b[0m\u001b[0m\n",
            "\u001b[0;32m/usr/local/lib/python3.6/dist-packages/tensorflow/python/eager/function.py\u001b[0m in \u001b[0;36m__call__\u001b[0;34m(self, *args, **kwargs)\u001b[0m\n\u001b[1;32m   2418\u001b[0m     \u001b[0;32mwith\u001b[0m \u001b[0mself\u001b[0m\u001b[0;34m.\u001b[0m\u001b[0m_lock\u001b[0m\u001b[0;34m:\u001b[0m\u001b[0;34m\u001b[0m\u001b[0;34m\u001b[0m\u001b[0m\n\u001b[1;32m   2419\u001b[0m       \u001b[0mgraph_function\u001b[0m\u001b[0;34m,\u001b[0m \u001b[0margs\u001b[0m\u001b[0;34m,\u001b[0m \u001b[0mkwargs\u001b[0m \u001b[0;34m=\u001b[0m \u001b[0mself\u001b[0m\u001b[0;34m.\u001b[0m\u001b[0m_maybe_define_function\u001b[0m\u001b[0;34m(\u001b[0m\u001b[0margs\u001b[0m\u001b[0;34m,\u001b[0m \u001b[0mkwargs\u001b[0m\u001b[0;34m)\u001b[0m\u001b[0;34m\u001b[0m\u001b[0;34m\u001b[0m\u001b[0m\n\u001b[0;32m-> 2420\u001b[0;31m     \u001b[0;32mreturn\u001b[0m \u001b[0mgraph_function\u001b[0m\u001b[0;34m.\u001b[0m\u001b[0m_filtered_call\u001b[0m\u001b[0;34m(\u001b[0m\u001b[0margs\u001b[0m\u001b[0;34m,\u001b[0m \u001b[0mkwargs\u001b[0m\u001b[0;34m)\u001b[0m  \u001b[0;31m# pylint: disable=protected-access\u001b[0m\u001b[0;34m\u001b[0m\u001b[0;34m\u001b[0m\u001b[0m\n\u001b[0m\u001b[1;32m   2421\u001b[0m \u001b[0;34m\u001b[0m\u001b[0m\n\u001b[1;32m   2422\u001b[0m   \u001b[0;34m@\u001b[0m\u001b[0mproperty\u001b[0m\u001b[0;34m\u001b[0m\u001b[0;34m\u001b[0m\u001b[0m\n",
            "\u001b[0;32m/usr/local/lib/python3.6/dist-packages/tensorflow/python/eager/function.py\u001b[0m in \u001b[0;36m_filtered_call\u001b[0;34m(self, args, kwargs)\u001b[0m\n\u001b[1;32m   1663\u001b[0m          if isinstance(t, (ops.Tensor,\n\u001b[1;32m   1664\u001b[0m                            resource_variable_ops.BaseResourceVariable))),\n\u001b[0;32m-> 1665\u001b[0;31m         self.captured_inputs)\n\u001b[0m\u001b[1;32m   1666\u001b[0m \u001b[0;34m\u001b[0m\u001b[0m\n\u001b[1;32m   1667\u001b[0m   \u001b[0;32mdef\u001b[0m \u001b[0m_call_flat\u001b[0m\u001b[0;34m(\u001b[0m\u001b[0mself\u001b[0m\u001b[0;34m,\u001b[0m \u001b[0margs\u001b[0m\u001b[0;34m,\u001b[0m \u001b[0mcaptured_inputs\u001b[0m\u001b[0;34m,\u001b[0m \u001b[0mcancellation_manager\u001b[0m\u001b[0;34m=\u001b[0m\u001b[0;32mNone\u001b[0m\u001b[0;34m)\u001b[0m\u001b[0;34m:\u001b[0m\u001b[0;34m\u001b[0m\u001b[0;34m\u001b[0m\u001b[0m\n",
            "\u001b[0;32m/usr/local/lib/python3.6/dist-packages/tensorflow/python/eager/function.py\u001b[0m in \u001b[0;36m_call_flat\u001b[0;34m(self, args, captured_inputs, cancellation_manager)\u001b[0m\n\u001b[1;32m   1744\u001b[0m       \u001b[0;31m# No tape is watching; skip to running the function.\u001b[0m\u001b[0;34m\u001b[0m\u001b[0;34m\u001b[0m\u001b[0;34m\u001b[0m\u001b[0m\n\u001b[1;32m   1745\u001b[0m       return self._build_call_outputs(self._inference_function.call(\n\u001b[0;32m-> 1746\u001b[0;31m           ctx, args, cancellation_manager=cancellation_manager))\n\u001b[0m\u001b[1;32m   1747\u001b[0m     forward_backward = self._select_forward_and_backward_functions(\n\u001b[1;32m   1748\u001b[0m         \u001b[0margs\u001b[0m\u001b[0;34m,\u001b[0m\u001b[0;34m\u001b[0m\u001b[0;34m\u001b[0m\u001b[0m\n",
            "\u001b[0;32m/usr/local/lib/python3.6/dist-packages/tensorflow/python/eager/function.py\u001b[0m in \u001b[0;36mcall\u001b[0;34m(self, ctx, args, cancellation_manager)\u001b[0m\n\u001b[1;32m    596\u001b[0m               \u001b[0minputs\u001b[0m\u001b[0;34m=\u001b[0m\u001b[0margs\u001b[0m\u001b[0;34m,\u001b[0m\u001b[0;34m\u001b[0m\u001b[0;34m\u001b[0m\u001b[0m\n\u001b[1;32m    597\u001b[0m               \u001b[0mattrs\u001b[0m\u001b[0;34m=\u001b[0m\u001b[0mattrs\u001b[0m\u001b[0;34m,\u001b[0m\u001b[0;34m\u001b[0m\u001b[0;34m\u001b[0m\u001b[0m\n\u001b[0;32m--> 598\u001b[0;31m               ctx=ctx)\n\u001b[0m\u001b[1;32m    599\u001b[0m         \u001b[0;32melse\u001b[0m\u001b[0;34m:\u001b[0m\u001b[0;34m\u001b[0m\u001b[0;34m\u001b[0m\u001b[0m\n\u001b[1;32m    600\u001b[0m           outputs = execute.execute_with_cancellation(\n",
            "\u001b[0;32m/usr/local/lib/python3.6/dist-packages/tensorflow/python/eager/execute.py\u001b[0m in \u001b[0;36mquick_execute\u001b[0;34m(op_name, num_outputs, inputs, attrs, ctx, name)\u001b[0m\n\u001b[1;32m     58\u001b[0m     \u001b[0mctx\u001b[0m\u001b[0;34m.\u001b[0m\u001b[0mensure_initialized\u001b[0m\u001b[0;34m(\u001b[0m\u001b[0;34m)\u001b[0m\u001b[0;34m\u001b[0m\u001b[0;34m\u001b[0m\u001b[0m\n\u001b[1;32m     59\u001b[0m     tensors = pywrap_tfe.TFE_Py_Execute(ctx._handle, device_name, op_name,\n\u001b[0;32m---> 60\u001b[0;31m                                         inputs, attrs, num_outputs)\n\u001b[0m\u001b[1;32m     61\u001b[0m   \u001b[0;32mexcept\u001b[0m \u001b[0mcore\u001b[0m\u001b[0;34m.\u001b[0m\u001b[0m_NotOkStatusException\u001b[0m \u001b[0;32mas\u001b[0m \u001b[0me\u001b[0m\u001b[0;34m:\u001b[0m\u001b[0;34m\u001b[0m\u001b[0;34m\u001b[0m\u001b[0m\n\u001b[1;32m     62\u001b[0m     \u001b[0;32mif\u001b[0m \u001b[0mname\u001b[0m \u001b[0;32mis\u001b[0m \u001b[0;32mnot\u001b[0m \u001b[0;32mNone\u001b[0m\u001b[0;34m:\u001b[0m\u001b[0;34m\u001b[0m\u001b[0;34m\u001b[0m\u001b[0m\n",
            "\u001b[0;31mKeyboardInterrupt\u001b[0m: "
          ]
        }
      ]
    },
    {
      "cell_type": "code",
      "metadata": {
        "id": "caS57ipuOafN",
        "colab_type": "code",
        "colab": {}
      },
      "source": [
        "# batch size kinda depends on the size of the dataset, 32 is being used for now for the test, might change it up to 200 or 2000 during implementation"
      ],
      "execution_count": 0,
      "outputs": []
    },
    {
      "cell_type": "code",
      "metadata": {
        "id": "lYCL7BgeOaoq",
        "colab_type": "code",
        "colab": {}
      },
      "source": [
        "# serializeing model to JSON"
      ],
      "execution_count": 0,
      "outputs": []
    },
    {
      "cell_type": "code",
      "metadata": {
        "id": "Kc_IET_ZOivK",
        "colab_type": "code",
        "outputId": "69497cc5-5dbc-4e2d-bf3a-35feae821733",
        "colab": {
          "base_uri": "https://localhost:8080/",
          "height": 34
        }
      },
      "source": [
        "from keras.models import model_from_json"
      ],
      "execution_count": 0,
      "outputs": [
        {
          "output_type": "stream",
          "text": [
            "Using TensorFlow backend.\n"
          ],
          "name": "stderr"
        }
      ]
    },
    {
      "cell_type": "code",
      "metadata": {
        "id": "0DrX4FD_OjIR",
        "colab_type": "code",
        "outputId": "6e36e0d0-fa93-41b4-84b4-5de8c38128ee",
        "colab": {
          "base_uri": "https://localhost:8080/",
          "height": 34
        }
      },
      "source": [
        "scores = model.evaluate(X_train, y_train, verbose = 0)\n",
        "print(\"%s: %.2f%%\" % (model.metrics_names[1], scores[1]*100))"
      ],
      "execution_count": 0,
      "outputs": [
        {
          "output_type": "stream",
          "text": [
            "accuracy: 62.29%\n"
          ],
          "name": "stdout"
        }
      ]
    },
    {
      "cell_type": "code",
      "metadata": {
        "id": "2E63uywJOkVo",
        "colab_type": "code",
        "colab": {}
      },
      "source": [
        "# serialize model to JSON\n",
        "model_json = model.to_json()\n",
        "with open(\"model.json\", \"w\") as json_file:\n",
        "  json_file.write(model_json)"
      ],
      "execution_count": 0,
      "outputs": []
    },
    {
      "cell_type": "code",
      "metadata": {
        "id": "Ol-Bq9Y4OmvH",
        "colab_type": "code",
        "colab": {}
      },
      "source": [
        "# load json and create model\n",
        "json_file = open('model.json','r')\n",
        "loaded_model_json = json_file.read()\n",
        "json_file.close()\n",
        "loaded_model = model_from_json(loaded_model_json)"
      ],
      "execution_count": 0,
      "outputs": []
    },
    {
      "cell_type": "code",
      "metadata": {
        "id": "rm8JjcCaOnRI",
        "colab_type": "code",
        "colab": {}
      },
      "source": [
        ""
      ],
      "execution_count": 0,
      "outputs": []
    },
    {
      "cell_type": "code",
      "metadata": {
        "id": "AI5PDcqQOnWR",
        "colab_type": "code",
        "colab": {}
      },
      "source": [
        "# tf save model"
      ],
      "execution_count": 0,
      "outputs": []
    },
    {
      "cell_type": "code",
      "metadata": {
        "id": "5svst5mNjgqy",
        "colab_type": "code",
        "outputId": "88de50bc-650a-41a7-80d3-9cd8fc612ceb",
        "colab": {
          "base_uri": "https://localhost:8080/",
          "height": 85
        }
      },
      "source": [
        "model.save('462shroom.model')"
      ],
      "execution_count": 0,
      "outputs": [
        {
          "output_type": "stream",
          "text": [
            "WARNING:tensorflow:From /usr/local/lib/python3.6/dist-packages/tensorflow/python/ops/resource_variable_ops.py:1817: calling BaseResourceVariable.__init__ (from tensorflow.python.ops.resource_variable_ops) with constraint is deprecated and will be removed in a future version.\n",
            "Instructions for updating:\n",
            "If using Keras pass *_constraint arguments to layers.\n",
            "INFO:tensorflow:Assets written to: 462shroom.model/assets\n"
          ],
          "name": "stdout"
        }
      ]
    },
    {
      "cell_type": "code",
      "metadata": {
        "id": "IwKBSbDljo2q",
        "colab_type": "code",
        "colab": {}
      },
      "source": [
        "def prepare(filepath):\n",
        "  img_size=50\n",
        "  img_array=cv2.imread(filepath, cv2.IMREAD_GRAYSCALE)\n",
        "  new_array=cv2.resize(img_array, (img_size, img_size))\n",
        "  return new_array.reshapt(-1, img_size, img_size, 1)"
      ],
      "execution_count": 0,
      "outputs": []
    },
    {
      "cell_type": "code",
      "metadata": {
        "id": "cjdHz_oFkVZE",
        "colab_type": "code",
        "colab": {}
      },
      "source": [
        "model = tf.keras.models.load_model('462shroom.model')"
      ],
      "execution_count": 0,
      "outputs": []
    },
    {
      "cell_type": "code",
      "metadata": {
        "id": "qXqoUq0emNg3",
        "colab_type": "code",
        "outputId": "a56ca0bc-c2a8-45b1-f580-17874305e403",
        "colab": {
          "base_uri": "https://localhost:8080/",
          "height": 34
        }
      },
      "source": [
        "# test image folder id: 1w7VHZFnmiu0rhNuWT5h5JV1UJAeIlmM4\n",
        "# image id: 17AShz0ODQrSDdFKrxi4r6nKjG6KEsNKm\n",
        "\n",
        "test_img = drive.CreateFile({'id':\"17AShz0ODQrSDdFKrxi4r6nKjG6KEsNKm\"})   # 14 mushrooms\n",
        "print('title: %s, mimeType: %s' % (test_img['title'], test_img['mimeType']))\n",
        "test_img.GetContentFile('test.jpg')\n"
      ],
      "execution_count": 0,
      "outputs": [
        {
          "output_type": "stream",
          "text": [
            "title: BWP2013PIC11802314.JPG, mimeType: image/jpeg\n"
          ],
          "name": "stdout"
        }
      ]
    },
    {
      "cell_type": "code",
      "metadata": {
        "id": "bS0iZx52yc8g",
        "colab_type": "code",
        "outputId": "b133755f-2540-49e1-9376-0fe0206bb93e",
        "colab": {
          "base_uri": "https://localhost:8080/",
          "height": 54
        }
      },
      "source": [
        "print(test_img)"
      ],
      "execution_count": 0,
      "outputs": [
        {
          "output_type": "stream",
          "text": [
            "GoogleDriveFile({'id': '17AShz0ODQrSDdFKrxi4r6nKjG6KEsNKm', 'kind': 'drive#file', 'etag': '\"StLURADGvFAD7O9Kbwy7cPbE-UU/MTU4NjYzNDM5NzM0MA\"', 'selfLink': 'https://www.googleapis.com/drive/v2/files/17AShz0ODQrSDdFKrxi4r6nKjG6KEsNKm', 'webContentLink': 'https://drive.google.com/a/csu.fullerton.edu/uc?id=17AShz0ODQrSDdFKrxi4r6nKjG6KEsNKm&export=download', 'alternateLink': 'https://drive.google.com/a/csu.fullerton.edu/file/d/17AShz0ODQrSDdFKrxi4r6nKjG6KEsNKm/view?usp=drivesdk', 'embedLink': 'https://drive.google.com/a/csu.fullerton.edu/file/d/17AShz0ODQrSDdFKrxi4r6nKjG6KEsNKm/preview?usp=drivesdk', 'iconLink': 'https://drive-thirdparty.googleusercontent.com/16/type/image/jpeg', 'thumbnailLink': 'https://lh3.googleusercontent.com/EKVPSAk8MF88UB35PdYkCiCzfTrPqNeU6BANXX2ngDdMdIJcZgSZ7xNTKghd79HMqGFgtP2r5hU=s220', 'title': 'BWP2013PIC11802314.JPG', 'mimeType': 'image/jpeg', 'labels': {'starred': False, 'hidden': False, 'trashed': False, 'restricted': False, 'viewed': True}, 'copyRequiresWriterPermission': False, 'createdDate': '2020-04-11T19:46:37.340Z', 'modifiedDate': '2020-04-11T19:46:37.340Z', 'modifiedByMeDate': '2020-04-11T19:46:37.340Z', 'lastViewedByMeDate': '2020-04-11T19:46:37.340Z', 'markedViewedByMeDate': '1970-01-01T00:00:00.000Z', 'version': '1', 'parents': [{'kind': 'drive#parentReference', 'id': '1gbiuIjKcUO1VFiqLMX_Ce-tJLb8_kyO6', 'selfLink': 'https://www.googleapis.com/drive/v2/files/17AShz0ODQrSDdFKrxi4r6nKjG6KEsNKm/parents/1gbiuIjKcUO1VFiqLMX_Ce-tJLb8_kyO6', 'parentLink': 'https://www.googleapis.com/drive/v2/files/1gbiuIjKcUO1VFiqLMX_Ce-tJLb8_kyO6', 'isRoot': False}], 'downloadUrl': 'https://www.googleapis.com/drive/v2/files/17AShz0ODQrSDdFKrxi4r6nKjG6KEsNKm?alt=media&source=downloadUrl', 'userPermission': {'kind': 'drive#permission', 'etag': '\"StLURADGvFAD7O9Kbwy7cPbE-UU/bBZT95s-NbaBKteK1JkEEOPp5_0\"', 'id': 'me', 'selfLink': 'https://www.googleapis.com/drive/v2/files/17AShz0ODQrSDdFKrxi4r6nKjG6KEsNKm/permissions/me', 'role': 'owner', 'type': 'user'}, 'originalFilename': 'BWP2013PIC11802314.JPG', 'fileExtension': 'JPG', 'md5Checksum': '4241958081df12990f5f1b1949ca226a', 'fileSize': '178335', 'quotaBytesUsed': '178335', 'ownerNames': ['Haowen Yong'], 'owners': [{'kind': 'drive#user', 'displayName': 'Haowen Yong', 'isAuthenticatedUser': True, 'permissionId': '06605204422226537663', 'emailAddress': 'heyhw@csu.fullerton.edu'}], 'lastModifyingUserName': 'Haowen Yong', 'lastModifyingUser': {'kind': 'drive#user', 'displayName': 'Haowen Yong', 'isAuthenticatedUser': True, 'permissionId': '06605204422226537663', 'emailAddress': 'heyhw@csu.fullerton.edu'}, 'capabilities': {'canCopy': True, 'canEdit': True}, 'editable': True, 'copyable': True, 'writersCanShare': True, 'shared': True, 'explicitlyTrashed': False, 'appDataContents': False, 'headRevisionId': '0Bx5RHKi7Fry3dytMbDNYb3l1OS9ZMnpRRXdvOElCcWdtWWljPQ', 'imageMediaMetadata': {'width': 1019, 'height': 768, 'rotation': 0, 'date': '2013:05:25 15:45:41', 'cameraMake': 'OLYMPUS IMAGING CORP.  ', 'cameraModel': 'E-PL1           ', 'exposureTime': 0.05, 'aperture': 22.0, 'flashUsed': False, 'focalLength': 28.0, 'isoSpeed': 400, 'meteringMode': 'CenterWeightedAverage', 'colorSpace': 'sRGB', 'exposureBias': 0.0, 'maxApertureValue': 3.6132812}, 'spaces': ['drive']})\n"
          ],
          "name": "stdout"
        }
      ]
    },
    {
      "cell_type": "code",
      "metadata": {
        "id": "k3umbrFazEK_",
        "colab_type": "code",
        "colab": {}
      },
      "source": [
        ""
      ],
      "execution_count": 0,
      "outputs": []
    },
    {
      "cell_type": "code",
      "metadata": {
        "id": "bdIWUPBEoATR",
        "colab_type": "code",
        "colab": {}
      },
      "source": [
        "file_name = \"test.tgz\"\n",
        "\n",
        "with ZipFile(file_name, 'r') as zip:\n",
        "  zip.extractall(\"~/Content/test_images\")\n",
        "  print('Done')"
      ],
      "execution_count": 0,
      "outputs": []
    },
    {
      "cell_type": "code",
      "metadata": {
        "id": "3hJfZS9akbmG",
        "colab_type": "code",
        "outputId": "076a38a0-6fb8-4734-edd6-4f4f8f7d5405",
        "colab": {
          "base_uri": "https://localhost:8080/",
          "height": 282
        }
      },
      "source": [
        "prediction = model.predict([prepare(test_img)])"
      ],
      "execution_count": 0,
      "outputs": [
        {
          "output_type": "error",
          "ename": "SystemError",
          "evalue": "ignored",
          "traceback": [
            "\u001b[0;31m---------------------------------------------------------------------------\u001b[0m",
            "\u001b[0;31mSystemError\u001b[0m                               Traceback (most recent call last)",
            "\u001b[0;32m<ipython-input-32-b2e77220245e>\u001b[0m in \u001b[0;36m<module>\u001b[0;34m()\u001b[0m\n\u001b[0;32m----> 1\u001b[0;31m \u001b[0mprediction\u001b[0m \u001b[0;34m=\u001b[0m \u001b[0mmodel\u001b[0m\u001b[0;34m.\u001b[0m\u001b[0mpredict\u001b[0m\u001b[0;34m(\u001b[0m\u001b[0;34m[\u001b[0m\u001b[0mprepare\u001b[0m\u001b[0;34m(\u001b[0m\u001b[0mtest_img\u001b[0m\u001b[0;34m)\u001b[0m\u001b[0;34m]\u001b[0m\u001b[0;34m)\u001b[0m\u001b[0;34m\u001b[0m\u001b[0;34m\u001b[0m\u001b[0m\n\u001b[0m",
            "\u001b[0;32m<ipython-input-28-910725a9c600>\u001b[0m in \u001b[0;36mprepare\u001b[0;34m(filepath)\u001b[0m\n\u001b[1;32m      1\u001b[0m \u001b[0;32mdef\u001b[0m \u001b[0mprepare\u001b[0m\u001b[0;34m(\u001b[0m\u001b[0mfilepath\u001b[0m\u001b[0;34m)\u001b[0m\u001b[0;34m:\u001b[0m\u001b[0;34m\u001b[0m\u001b[0;34m\u001b[0m\u001b[0m\n\u001b[1;32m      2\u001b[0m   \u001b[0mimg_size\u001b[0m\u001b[0;34m=\u001b[0m\u001b[0;36m50\u001b[0m\u001b[0;34m\u001b[0m\u001b[0;34m\u001b[0m\u001b[0m\n\u001b[0;32m----> 3\u001b[0;31m   \u001b[0mimg_array\u001b[0m\u001b[0;34m=\u001b[0m\u001b[0mcv2\u001b[0m\u001b[0;34m.\u001b[0m\u001b[0mimread\u001b[0m\u001b[0;34m(\u001b[0m\u001b[0mfilepath\u001b[0m\u001b[0;34m,\u001b[0m \u001b[0mcv2\u001b[0m\u001b[0;34m.\u001b[0m\u001b[0mIMREAD_GRAYSCALE\u001b[0m\u001b[0;34m)\u001b[0m\u001b[0;34m\u001b[0m\u001b[0;34m\u001b[0m\u001b[0m\n\u001b[0m\u001b[1;32m      4\u001b[0m   \u001b[0mnew_array\u001b[0m\u001b[0;34m=\u001b[0m\u001b[0mcv2\u001b[0m\u001b[0;34m.\u001b[0m\u001b[0mresize\u001b[0m\u001b[0;34m(\u001b[0m\u001b[0mimg_array\u001b[0m\u001b[0;34m,\u001b[0m \u001b[0;34m(\u001b[0m\u001b[0mimg_size\u001b[0m\u001b[0;34m,\u001b[0m \u001b[0mimg_size\u001b[0m\u001b[0;34m)\u001b[0m\u001b[0;34m)\u001b[0m\u001b[0;34m\u001b[0m\u001b[0;34m\u001b[0m\u001b[0m\n\u001b[1;32m      5\u001b[0m   \u001b[0;32mreturn\u001b[0m \u001b[0mnew_array\u001b[0m\u001b[0;34m.\u001b[0m\u001b[0mreshapt\u001b[0m\u001b[0;34m(\u001b[0m\u001b[0;34m-\u001b[0m\u001b[0;36m1\u001b[0m\u001b[0;34m,\u001b[0m \u001b[0mimg_size\u001b[0m\u001b[0;34m,\u001b[0m \u001b[0mimg_size\u001b[0m\u001b[0;34m,\u001b[0m \u001b[0;36m1\u001b[0m\u001b[0;34m)\u001b[0m\u001b[0;34m\u001b[0m\u001b[0;34m\u001b[0m\u001b[0m\n",
            "\u001b[0;31mSystemError\u001b[0m: <built-in function imread> returned NULL without setting an error"
          ]
        }
      ]
    },
    {
      "cell_type": "code",
      "metadata": {
        "id": "ICIgN3EFOnbl",
        "colab_type": "code",
        "outputId": "0ca33dd9-f8af-49c7-8d64-c172216f3e72",
        "colab": {
          "base_uri": "https://localhost:8080/",
          "height": 85
        }
      },
      "source": [
        "model.save('path_to_saved_model', save_format='tf')"
      ],
      "execution_count": 0,
      "outputs": [
        {
          "output_type": "stream",
          "text": [
            "WARNING:tensorflow:From /usr/local/lib/python3.6/dist-packages/tensorflow/python/ops/resource_variable_ops.py:1817: calling BaseResourceVariable.__init__ (from tensorflow.python.ops.resource_variable_ops) with constraint is deprecated and will be removed in a future version.\n",
            "Instructions for updating:\n",
            "If using Keras pass *_constraint arguments to layers.\n",
            "INFO:tensorflow:Assets written to: path_to_saved_model/assets\n"
          ],
          "name": "stdout"
        }
      ]
    },
    {
      "cell_type": "code",
      "metadata": {
        "id": "K6G3kO4wOsG9",
        "colab_type": "code",
        "colab": {}
      },
      "source": [
        ""
      ],
      "execution_count": 0,
      "outputs": []
    }
  ]
}